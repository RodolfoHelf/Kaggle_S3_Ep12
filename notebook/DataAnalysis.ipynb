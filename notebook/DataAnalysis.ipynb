{
 "cells": [
  {
   "attachments": {},
   "cell_type": "markdown",
   "metadata": {},
   "source": [
    "# 0- Business Problem"
   ]
  },
  {
   "attachments": {},
   "cell_type": "markdown",
   "metadata": {},
   "source": [
    "Submissions are evaluated on area under the ROC curve between the predicted probability and the observed target.\n",
    "\n",
    "A receiver operating characteristic curve, or ROC curve, is a graphical plot that illustrates the diagnostic ability of a binary classifier system as its discrimination threshold is varied\n",
    "\n",
    "For each id in the test set, you must predict the probability of target (likelihood of the presence of a kidney stone). The file should contain a header and have the following format:\n",
    "\n",
    "This dataset can be used to predict the presence of kidney stones based on urine analysis.\n",
    "\n",
    "The 79 urine specimens, were analyzed in an effort to\n",
    "determine if certain physical characteristics of the urine might be related to the\n",
    "formation of calcium oxalate crystals.\n",
    "The six physical characteristics of the urine are: \n",
    "(1) specific gravity, the density of the urine relative to water; \n",
    "(2) pH, the negative logarithm of the hydrogen ion; \n",
    "(3) osmolarity (mOsm), a unit used in biology and medicine but not in\n",
    "physical chemistry. Osmolarity is proportional to the concentration of\n",
    "molecules in solution; \n",
    "(4) conductivity (mMho milliMho). One Mho is one\n",
    "reciprocal Ohm. Conductivity is proportional to the concentration of charged\n",
    "ions in solution; \n",
    "(5) urea concentration in millimoles per litre; and \n",
    "(6) calcium\n",
    "concentration (CALC) in millimolesllitre.\n",
    "\n",
    "The data is obtained from 'Physical Characteristics of Urines With and Without Crystals',a chapter from Springer Series in Statistics.\n",
    "\n",
    "https://link.springer.com/chapter/10.1007/978-1-4612-5098-2_45"
   ]
  },
  {
   "attachments": {},
   "cell_type": "markdown",
   "metadata": {},
   "source": [
    "# 1 - Import Packages"
   ]
  },
  {
   "cell_type": "code",
   "execution_count": 10,
   "metadata": {},
   "outputs": [],
   "source": [
    "import pandas as pd\n",
    "import numpy as np\n",
    "\n",
    "import seaborn as sns\n",
    "\n",
    "from scipy.stats import skew,kurtosis\n",
    "from sklearn.metrics import roc_auc_score,roc_curve"
   ]
  },
  {
   "attachments": {},
   "cell_type": "markdown",
   "metadata": {},
   "source": [
    "## 1.1 Functions"
   ]
  },
  {
   "cell_type": "code",
   "execution_count": null,
   "metadata": {},
   "outputs": [],
   "source": []
  },
  {
   "attachments": {},
   "cell_type": "markdown",
   "metadata": {},
   "source": [
    "# 2 - Load Data"
   ]
  },
  {
   "cell_type": "code",
   "execution_count": 4,
   "metadata": {},
   "outputs": [],
   "source": [
    "raw_test = pd.read_csv(\"../data/test.csv\")\n",
    "raw_train = pd.read_csv(\"../data/train.csv\")"
   ]
  },
  {
   "cell_type": "code",
   "execution_count": 5,
   "metadata": {},
   "outputs": [
    {
     "name": "stdout",
     "output_type": "stream",
     "text": [
      "Train sahpe = (414, 8)   Test shape = (276, 7)\n"
     ]
    }
   ],
   "source": [
    "print(f\"Train sahpe = {raw_train.shape}   Test shape = {raw_test.shape}\")"
   ]
  },
  {
   "cell_type": "code",
   "execution_count": 6,
   "metadata": {},
   "outputs": [
    {
     "data": {
      "text/plain": [
       "Index(['id', 'gravity', 'ph', 'osmo', 'cond', 'urea', 'calc', 'target'], dtype='object')"
      ]
     },
     "execution_count": 6,
     "metadata": {},
     "output_type": "execute_result"
    }
   ],
   "source": [
    "raw_train.columns"
   ]
  },
  {
   "cell_type": "code",
   "execution_count": 7,
   "metadata": {},
   "outputs": [
    {
     "data": {
      "text/plain": [
       "id           int64\n",
       "gravity    float64\n",
       "ph         float64\n",
       "osmo         int64\n",
       "cond       float64\n",
       "urea         int64\n",
       "calc       float64\n",
       "target       int64\n",
       "dtype: object"
      ]
     },
     "execution_count": 7,
     "metadata": {},
     "output_type": "execute_result"
    }
   ],
   "source": [
    "raw_train.dtypes"
   ]
  },
  {
   "cell_type": "code",
   "execution_count": 8,
   "metadata": {},
   "outputs": [
    {
     "data": {
      "text/html": [
       "<div>\n",
       "<style scoped>\n",
       "    .dataframe tbody tr th:only-of-type {\n",
       "        vertical-align: middle;\n",
       "    }\n",
       "\n",
       "    .dataframe tbody tr th {\n",
       "        vertical-align: top;\n",
       "    }\n",
       "\n",
       "    .dataframe thead th {\n",
       "        text-align: right;\n",
       "    }\n",
       "</style>\n",
       "<table border=\"1\" class=\"dataframe\">\n",
       "  <thead>\n",
       "    <tr style=\"text-align: right;\">\n",
       "      <th></th>\n",
       "      <th>id</th>\n",
       "      <th>gravity</th>\n",
       "      <th>ph</th>\n",
       "      <th>osmo</th>\n",
       "      <th>cond</th>\n",
       "      <th>urea</th>\n",
       "      <th>calc</th>\n",
       "      <th>target</th>\n",
       "    </tr>\n",
       "  </thead>\n",
       "  <tbody>\n",
       "    <tr>\n",
       "      <th>0</th>\n",
       "      <td>0</td>\n",
       "      <td>1.013</td>\n",
       "      <td>6.19</td>\n",
       "      <td>443</td>\n",
       "      <td>14.8</td>\n",
       "      <td>124</td>\n",
       "      <td>1.45</td>\n",
       "      <td>0</td>\n",
       "    </tr>\n",
       "    <tr>\n",
       "      <th>1</th>\n",
       "      <td>1</td>\n",
       "      <td>1.025</td>\n",
       "      <td>5.40</td>\n",
       "      <td>703</td>\n",
       "      <td>23.6</td>\n",
       "      <td>394</td>\n",
       "      <td>4.18</td>\n",
       "      <td>0</td>\n",
       "    </tr>\n",
       "    <tr>\n",
       "      <th>2</th>\n",
       "      <td>2</td>\n",
       "      <td>1.009</td>\n",
       "      <td>6.13</td>\n",
       "      <td>371</td>\n",
       "      <td>24.5</td>\n",
       "      <td>159</td>\n",
       "      <td>9.04</td>\n",
       "      <td>0</td>\n",
       "    </tr>\n",
       "    <tr>\n",
       "      <th>3</th>\n",
       "      <td>3</td>\n",
       "      <td>1.021</td>\n",
       "      <td>4.91</td>\n",
       "      <td>442</td>\n",
       "      <td>20.8</td>\n",
       "      <td>398</td>\n",
       "      <td>6.63</td>\n",
       "      <td>1</td>\n",
       "    </tr>\n",
       "    <tr>\n",
       "      <th>4</th>\n",
       "      <td>4</td>\n",
       "      <td>1.021</td>\n",
       "      <td>5.53</td>\n",
       "      <td>874</td>\n",
       "      <td>17.8</td>\n",
       "      <td>385</td>\n",
       "      <td>2.21</td>\n",
       "      <td>1</td>\n",
       "    </tr>\n",
       "  </tbody>\n",
       "</table>\n",
       "</div>"
      ],
      "text/plain": [
       "   id  gravity    ph  osmo  cond  urea  calc  target\n",
       "0   0    1.013  6.19   443  14.8   124  1.45       0\n",
       "1   1    1.025  5.40   703  23.6   394  4.18       0\n",
       "2   2    1.009  6.13   371  24.5   159  9.04       0\n",
       "3   3    1.021  4.91   442  20.8   398  6.63       1\n",
       "4   4    1.021  5.53   874  17.8   385  2.21       1"
      ]
     },
     "execution_count": 8,
     "metadata": {},
     "output_type": "execute_result"
    }
   ],
   "source": [
    "raw_train.head(5)"
   ]
  },
  {
   "cell_type": "code",
   "execution_count": 9,
   "metadata": {},
   "outputs": [
    {
     "data": {
      "text/html": [
       "<div>\n",
       "<style scoped>\n",
       "    .dataframe tbody tr th:only-of-type {\n",
       "        vertical-align: middle;\n",
       "    }\n",
       "\n",
       "    .dataframe tbody tr th {\n",
       "        vertical-align: top;\n",
       "    }\n",
       "\n",
       "    .dataframe thead th {\n",
       "        text-align: right;\n",
       "    }\n",
       "</style>\n",
       "<table border=\"1\" class=\"dataframe\">\n",
       "  <thead>\n",
       "    <tr style=\"text-align: right;\">\n",
       "      <th></th>\n",
       "      <th>id</th>\n",
       "      <th>gravity</th>\n",
       "      <th>ph</th>\n",
       "      <th>osmo</th>\n",
       "      <th>cond</th>\n",
       "      <th>urea</th>\n",
       "      <th>calc</th>\n",
       "      <th>target</th>\n",
       "    </tr>\n",
       "  </thead>\n",
       "  <tbody>\n",
       "    <tr>\n",
       "      <th>count</th>\n",
       "      <td>414.000000</td>\n",
       "      <td>414.000000</td>\n",
       "      <td>414.000000</td>\n",
       "      <td>414.000000</td>\n",
       "      <td>414.000000</td>\n",
       "      <td>414.000000</td>\n",
       "      <td>414.000000</td>\n",
       "      <td>414.000000</td>\n",
       "    </tr>\n",
       "    <tr>\n",
       "      <th>mean</th>\n",
       "      <td>206.500000</td>\n",
       "      <td>1.017894</td>\n",
       "      <td>5.955459</td>\n",
       "      <td>651.545894</td>\n",
       "      <td>21.437923</td>\n",
       "      <td>278.657005</td>\n",
       "      <td>4.114638</td>\n",
       "      <td>0.444444</td>\n",
       "    </tr>\n",
       "    <tr>\n",
       "      <th>std</th>\n",
       "      <td>119.655756</td>\n",
       "      <td>0.006675</td>\n",
       "      <td>0.642260</td>\n",
       "      <td>234.676567</td>\n",
       "      <td>7.514750</td>\n",
       "      <td>136.442249</td>\n",
       "      <td>3.217641</td>\n",
       "      <td>0.497505</td>\n",
       "    </tr>\n",
       "    <tr>\n",
       "      <th>min</th>\n",
       "      <td>0.000000</td>\n",
       "      <td>1.005000</td>\n",
       "      <td>4.760000</td>\n",
       "      <td>187.000000</td>\n",
       "      <td>5.100000</td>\n",
       "      <td>10.000000</td>\n",
       "      <td>0.170000</td>\n",
       "      <td>0.000000</td>\n",
       "    </tr>\n",
       "    <tr>\n",
       "      <th>25%</th>\n",
       "      <td>103.250000</td>\n",
       "      <td>1.012000</td>\n",
       "      <td>5.530000</td>\n",
       "      <td>455.250000</td>\n",
       "      <td>15.500000</td>\n",
       "      <td>170.000000</td>\n",
       "      <td>1.450000</td>\n",
       "      <td>0.000000</td>\n",
       "    </tr>\n",
       "    <tr>\n",
       "      <th>50%</th>\n",
       "      <td>206.500000</td>\n",
       "      <td>1.018000</td>\n",
       "      <td>5.740000</td>\n",
       "      <td>679.500000</td>\n",
       "      <td>22.200000</td>\n",
       "      <td>277.000000</td>\n",
       "      <td>3.130000</td>\n",
       "      <td>0.000000</td>\n",
       "    </tr>\n",
       "    <tr>\n",
       "      <th>75%</th>\n",
       "      <td>309.750000</td>\n",
       "      <td>1.022000</td>\n",
       "      <td>6.280000</td>\n",
       "      <td>840.000000</td>\n",
       "      <td>27.600000</td>\n",
       "      <td>385.000000</td>\n",
       "      <td>6.630000</td>\n",
       "      <td>1.000000</td>\n",
       "    </tr>\n",
       "    <tr>\n",
       "      <th>max</th>\n",
       "      <td>413.000000</td>\n",
       "      <td>1.040000</td>\n",
       "      <td>7.940000</td>\n",
       "      <td>1236.000000</td>\n",
       "      <td>38.000000</td>\n",
       "      <td>620.000000</td>\n",
       "      <td>14.340000</td>\n",
       "      <td>1.000000</td>\n",
       "    </tr>\n",
       "  </tbody>\n",
       "</table>\n",
       "</div>"
      ],
      "text/plain": [
       "               id     gravity          ph         osmo        cond  \\\n",
       "count  414.000000  414.000000  414.000000   414.000000  414.000000   \n",
       "mean   206.500000    1.017894    5.955459   651.545894   21.437923   \n",
       "std    119.655756    0.006675    0.642260   234.676567    7.514750   \n",
       "min      0.000000    1.005000    4.760000   187.000000    5.100000   \n",
       "25%    103.250000    1.012000    5.530000   455.250000   15.500000   \n",
       "50%    206.500000    1.018000    5.740000   679.500000   22.200000   \n",
       "75%    309.750000    1.022000    6.280000   840.000000   27.600000   \n",
       "max    413.000000    1.040000    7.940000  1236.000000   38.000000   \n",
       "\n",
       "             urea        calc      target  \n",
       "count  414.000000  414.000000  414.000000  \n",
       "mean   278.657005    4.114638    0.444444  \n",
       "std    136.442249    3.217641    0.497505  \n",
       "min     10.000000    0.170000    0.000000  \n",
       "25%    170.000000    1.450000    0.000000  \n",
       "50%    277.000000    3.130000    0.000000  \n",
       "75%    385.000000    6.630000    1.000000  \n",
       "max    620.000000   14.340000    1.000000  "
      ]
     },
     "execution_count": 9,
     "metadata": {},
     "output_type": "execute_result"
    }
   ],
   "source": [
    "raw_train.describe()"
   ]
  },
  {
   "attachments": {},
   "cell_type": "markdown",
   "metadata": {},
   "source": [
    "# 3 - Descriptive Analysis"
   ]
  },
  {
   "cell_type": "code",
   "execution_count": null,
   "metadata": {},
   "outputs": [],
   "source": []
  },
  {
   "attachments": {},
   "cell_type": "markdown",
   "metadata": {},
   "source": [
    "# 4 - Feature Engineering"
   ]
  },
  {
   "cell_type": "code",
   "execution_count": null,
   "metadata": {},
   "outputs": [],
   "source": []
  },
  {
   "attachments": {},
   "cell_type": "markdown",
   "metadata": {},
   "source": [
    "# 5 - EDA"
   ]
  },
  {
   "attachments": {},
   "cell_type": "markdown",
   "metadata": {},
   "source": [
    "# 6 - Model Data"
   ]
  },
  {
   "attachments": {},
   "cell_type": "markdown",
   "metadata": {},
   "source": [
    "# 7 - Machine Learning"
   ]
  },
  {
   "attachments": {},
   "cell_type": "markdown",
   "metadata": {},
   "source": [
    "# 8 - Fine Tunning"
   ]
  },
  {
   "attachments": {},
   "cell_type": "markdown",
   "metadata": {},
   "source": [
    "# 9 - Results"
   ]
  }
 ],
 "metadata": {
  "kernelspec": {
   "display_name": "Python 3",
   "language": "python",
   "name": "python3"
  },
  "language_info": {
   "codemirror_mode": {
    "name": "ipython",
    "version": 3
   },
   "file_extension": ".py",
   "mimetype": "text/x-python",
   "name": "python",
   "nbconvert_exporter": "python",
   "pygments_lexer": "ipython3",
   "version": "3.10.6"
  },
  "orig_nbformat": 4
 },
 "nbformat": 4,
 "nbformat_minor": 2
}
